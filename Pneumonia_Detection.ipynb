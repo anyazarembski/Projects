{
  "nbformat": 4,
  "nbformat_minor": 0,
  "metadata": {
    "colab": {
      "name": "Notebook6_Zarembski.ipynb",
      "provenance": [],
      "collapsed_sections": [],
      "authorship_tag": "ABX9TyOzuDJaQlk+WYLDAryR5+mR",
      "include_colab_link": true
    },
    "kernelspec": {
      "name": "python3",
      "display_name": "Python 3"
    },
    "language_info": {
      "name": "python"
    },
    "accelerator": "GPU"
  },
  "cells": [
    {
      "cell_type": "markdown",
      "metadata": {
        "id": "view-in-github",
        "colab_type": "text"
      },
      "source": [
        "<a href=\"https://colab.research.google.com/github/anyazarembski/Projects/blob/main/Pneumonia_Detection.ipynb\" target=\"_parent\"><img src=\"https://colab.research.google.com/assets/colab-badge.svg\" alt=\"Open In Colab\"/></a>"
      ]
    },
    {
      "cell_type": "markdown",
      "metadata": {
        "id": "nkP6JS1rZv9y"
      },
      "source": [
        "# Notebook # 6"
      ]
    },
    {
      "cell_type": "markdown",
      "metadata": {
        "id": "8iWVSIfgZ0aN"
      },
      "source": [
        "Name: Anya Zarembski\n",
        "<br>Date: November 21st"
      ]
    },
    {
      "cell_type": "markdown",
      "metadata": {
        "id": "_wwwW2bRZ9j9"
      },
      "source": [
        "# Problem Description: \n",
        "For this Notebook, we are attempting to use CNNs to diagnose pneumonia from pictures of chest x-rays. We can use pictures to run a model that learns which elements of any image have pneumonia and which don't. Images will either have pneunomia or they won't. "
      ]
    },
    {
      "cell_type": "code",
      "metadata": {
        "colab": {
          "base_uri": "https://localhost:8080/"
        },
        "id": "tAllskHyaCyR",
        "outputId": "5af1821d-9efe-42c0-99b0-3f1e32b08aa5"
      },
      "source": [
        "import warnings\n",
        "warnings.filterwarnings('ignore')\n",
        "\n",
        "import keras\n",
        "import tensorflow \n",
        "import sys\n",
        "from matplotlib import pyplot\n",
        "from tensorflow.keras.utils import to_categorical\n",
        "from keras.models import Sequential\n",
        "from keras.layers import Conv2D\n",
        "from keras.layers import MaxPooling2D\n",
        "from keras.layers import Dense\n",
        "from keras.layers import Flatten\n",
        "from tensorflow.keras.optimizers import SGD\n",
        "from keras.preprocessing.image import ImageDataGenerator\n",
        "import sys\n",
        "\n",
        "## Connect to Drive\n",
        "from google.colab import drive\n",
        "import pandas\n",
        "drive.mount('/content/drive')\n",
        "\n",
        "## Image dimensions\n",
        "img_width = 200\n",
        "img_height = 200\n",
        "\n",
        "## Directories for testing and training data\n",
        "train_data_dir = '/content/drive/MyDrive/CS167/datasets/chest_xray/train' \n",
        "test_data_dir = '/content/drive/MyDrive/CS167/datasets/chest_xray/test'\n",
        "\n",
        "## To feed the training images to the neural network in batches of 32 images at a time\n",
        "batch_size = 32\n",
        "\n",
        "## Rescale pixel values from [0, 255] to between 0 and 1\n",
        "datagen = ImageDataGenerator(rescale=1.0/255.0)\n",
        "\n",
        "## Look for training and testing data and figure out the class of each example based on subfolder\n",
        "train_data = datagen.flow_from_directory(\n",
        "        train_data_dir,\n",
        "        target_size=(img_width, img_height),\n",
        "        batch_size=batch_size,\n",
        "        class_mode='binary')\n",
        "\n",
        "test_data = datagen.flow_from_directory(\n",
        "        test_data_dir,\n",
        "        target_size=(img_width, img_height),\n",
        "        batch_size=batch_size,\n",
        "        class_mode='binary')"
      ],
      "execution_count": null,
      "outputs": [
        {
          "output_type": "stream",
          "name": "stdout",
          "text": [
            "Mounted at /content/drive\n",
            "Found 5216 images belonging to 2 classes.\n",
            "Found 624 images belonging to 2 classes.\n"
          ]
        }
      ]
    },
    {
      "cell_type": "markdown",
      "metadata": {
        "id": "jqpS7-40kBP-"
      },
      "source": [
        "# Baseline Model"
      ]
    },
    {
      "cell_type": "code",
      "metadata": {
        "id": "IxatCqtSjc4R"
      },
      "source": [
        "baseline = Sequential()\n",
        "baseline.add(Conv2D(32, (3, 3), activation = 'relu', input_shape=(img_width, img_height, 3))) \n",
        "baseline.add(MaxPooling2D(pool_size=(2, 2)))\n",
        "baseline.add(Conv2D(32, (3, 3), activation = 'relu'))\n",
        "baseline.add(MaxPooling2D(pool_size=(2, 2)))\n",
        "baseline.add(Flatten())\n",
        "baseline.add(Dense(32))\n",
        "baseline.add(Dense(1,activation='sigmoid'))\n",
        "\n",
        "opt = SGD(lr=0.001, momentum=0.9)\n",
        "baseline.compile(optimizer=opt, loss='binary_crossentropy', metrics=['accuracy'])"
      ],
      "execution_count": null,
      "outputs": []
    },
    {
      "cell_type": "code",
      "metadata": {
        "colab": {
          "base_uri": "https://localhost:8080/"
        },
        "id": "iJOoW685kRmI",
        "outputId": "dd7fed62-4ca0-445e-d0c1-e67a8d23e1ae"
      },
      "source": [
        "training_results = baseline.fit_generator(\n",
        "        train_data,\n",
        "        steps_per_epoch = len(train_data), \n",
        "        epochs=40, \n",
        "        validation_data = test_data, \n",
        "        validation_steps = len(test_data)\n",
        "        )"
      ],
      "execution_count": null,
      "outputs": [
        {
          "output_type": "stream",
          "name": "stdout",
          "text": [
            "Epoch 1/40\n",
            "163/163 [==============================] - 967s 6s/step - loss: 0.2792 - accuracy: 0.8823 - val_loss: 1.6786 - val_accuracy: 0.6394\n",
            "Epoch 2/40\n",
            "163/163 [==============================] - 19s 114ms/step - loss: 0.1903 - accuracy: 0.9248 - val_loss: 0.3744 - val_accuracy: 0.8333\n",
            "Epoch 3/40\n",
            "163/163 [==============================] - 19s 114ms/step - loss: 0.1532 - accuracy: 0.9402 - val_loss: 0.4783 - val_accuracy: 0.8077\n",
            "Epoch 4/40\n",
            "163/163 [==============================] - 19s 114ms/step - loss: 0.1289 - accuracy: 0.9509 - val_loss: 0.8000 - val_accuracy: 0.7468\n",
            "Epoch 5/40\n",
            "163/163 [==============================] - 19s 114ms/step - loss: 0.1200 - accuracy: 0.9561 - val_loss: 0.6583 - val_accuracy: 0.7692\n",
            "Epoch 6/40\n",
            "163/163 [==============================] - 19s 114ms/step - loss: 0.1125 - accuracy: 0.9548 - val_loss: 0.7576 - val_accuracy: 0.7500\n",
            "Epoch 7/40\n",
            "163/163 [==============================] - 19s 114ms/step - loss: 0.1175 - accuracy: 0.9540 - val_loss: 1.0543 - val_accuracy: 0.7163\n",
            "Epoch 8/40\n",
            "163/163 [==============================] - 19s 116ms/step - loss: 0.1010 - accuracy: 0.9624 - val_loss: 0.7033 - val_accuracy: 0.7740\n",
            "Epoch 9/40\n",
            "163/163 [==============================] - 19s 114ms/step - loss: 0.0926 - accuracy: 0.9655 - val_loss: 1.2093 - val_accuracy: 0.7196\n",
            "Epoch 10/40\n",
            "163/163 [==============================] - 19s 115ms/step - loss: 0.0943 - accuracy: 0.9640 - val_loss: 0.6708 - val_accuracy: 0.7724\n",
            "Epoch 11/40\n",
            "163/163 [==============================] - 19s 114ms/step - loss: 0.0932 - accuracy: 0.9645 - val_loss: 0.7734 - val_accuracy: 0.7708\n",
            "Epoch 12/40\n",
            "163/163 [==============================] - 18s 112ms/step - loss: 0.0812 - accuracy: 0.9707 - val_loss: 1.2782 - val_accuracy: 0.6971\n",
            "Epoch 13/40\n",
            "163/163 [==============================] - 19s 114ms/step - loss: 0.0846 - accuracy: 0.9695 - val_loss: 1.0401 - val_accuracy: 0.7276\n",
            "Epoch 14/40\n",
            "163/163 [==============================] - 18s 113ms/step - loss: 0.0767 - accuracy: 0.9724 - val_loss: 1.0007 - val_accuracy: 0.7388\n",
            "Epoch 15/40\n",
            "163/163 [==============================] - 19s 113ms/step - loss: 0.0735 - accuracy: 0.9716 - val_loss: 0.8631 - val_accuracy: 0.7516\n",
            "Epoch 16/40\n",
            "163/163 [==============================] - 18s 113ms/step - loss: 0.0751 - accuracy: 0.9709 - val_loss: 0.6483 - val_accuracy: 0.7885\n",
            "Epoch 17/40\n",
            "163/163 [==============================] - 18s 111ms/step - loss: 0.0706 - accuracy: 0.9730 - val_loss: 0.7123 - val_accuracy: 0.7788\n",
            "Epoch 18/40\n",
            "163/163 [==============================] - 18s 111ms/step - loss: 0.0664 - accuracy: 0.9749 - val_loss: 0.7829 - val_accuracy: 0.7708\n",
            "Epoch 19/40\n",
            "163/163 [==============================] - 18s 110ms/step - loss: 0.0644 - accuracy: 0.9766 - val_loss: 0.7671 - val_accuracy: 0.7756\n",
            "Epoch 20/40\n",
            "163/163 [==============================] - 18s 110ms/step - loss: 0.0588 - accuracy: 0.9781 - val_loss: 0.8580 - val_accuracy: 0.7660\n",
            "Epoch 21/40\n",
            "163/163 [==============================] - 18s 111ms/step - loss: 0.0559 - accuracy: 0.9795 - val_loss: 1.0611 - val_accuracy: 0.7596\n",
            "Epoch 22/40\n",
            "163/163 [==============================] - 18s 110ms/step - loss: 0.0541 - accuracy: 0.9801 - val_loss: 0.9506 - val_accuracy: 0.7708\n",
            "Epoch 23/40\n",
            "163/163 [==============================] - 18s 109ms/step - loss: 0.0500 - accuracy: 0.9827 - val_loss: 0.9607 - val_accuracy: 0.7660\n",
            "Epoch 24/40\n",
            "163/163 [==============================] - 18s 108ms/step - loss: 0.0490 - accuracy: 0.9818 - val_loss: 0.8957 - val_accuracy: 0.7644\n",
            "Epoch 25/40\n",
            "163/163 [==============================] - 18s 108ms/step - loss: 0.0474 - accuracy: 0.9835 - val_loss: 1.1884 - val_accuracy: 0.7484\n",
            "Epoch 26/40\n",
            "163/163 [==============================] - 18s 108ms/step - loss: 0.0414 - accuracy: 0.9854 - val_loss: 1.2890 - val_accuracy: 0.7500\n",
            "Epoch 27/40\n",
            "163/163 [==============================] - 18s 110ms/step - loss: 0.0423 - accuracy: 0.9835 - val_loss: 0.9714 - val_accuracy: 0.7676\n",
            "Epoch 28/40\n",
            "163/163 [==============================] - 18s 108ms/step - loss: 0.0369 - accuracy: 0.9866 - val_loss: 1.2255 - val_accuracy: 0.7436\n",
            "Epoch 29/40\n",
            "163/163 [==============================] - 18s 108ms/step - loss: 0.0380 - accuracy: 0.9875 - val_loss: 1.1318 - val_accuracy: 0.7612\n",
            "Epoch 30/40\n",
            "163/163 [==============================] - 18s 108ms/step - loss: 0.0347 - accuracy: 0.9891 - val_loss: 1.0961 - val_accuracy: 0.7756\n",
            "Epoch 31/40\n",
            "163/163 [==============================] - 17s 107ms/step - loss: 0.0325 - accuracy: 0.9881 - val_loss: 1.6952 - val_accuracy: 0.6971\n",
            "Epoch 32/40\n",
            "163/163 [==============================] - 18s 108ms/step - loss: 0.0323 - accuracy: 0.9866 - val_loss: 1.0508 - val_accuracy: 0.7500\n",
            "Epoch 33/40\n",
            "163/163 [==============================] - 18s 110ms/step - loss: 0.0265 - accuracy: 0.9908 - val_loss: 1.4954 - val_accuracy: 0.7308\n",
            "Epoch 34/40\n",
            "163/163 [==============================] - 19s 114ms/step - loss: 0.0239 - accuracy: 0.9937 - val_loss: 1.3535 - val_accuracy: 0.7452\n",
            "Epoch 35/40\n",
            "163/163 [==============================] - 18s 113ms/step - loss: 0.0256 - accuracy: 0.9910 - val_loss: 1.1416 - val_accuracy: 0.7804\n",
            "Epoch 36/40\n",
            "163/163 [==============================] - 19s 114ms/step - loss: 0.0220 - accuracy: 0.9933 - val_loss: 1.3816 - val_accuracy: 0.7468\n",
            "Epoch 37/40\n",
            "163/163 [==============================] - 19s 114ms/step - loss: 0.0219 - accuracy: 0.9939 - val_loss: 1.7117 - val_accuracy: 0.7179\n",
            "Epoch 38/40\n",
            "163/163 [==============================] - 18s 113ms/step - loss: 0.0209 - accuracy: 0.9941 - val_loss: 1.4448 - val_accuracy: 0.7452\n",
            "Epoch 39/40\n",
            "163/163 [==============================] - 19s 113ms/step - loss: 0.0156 - accuracy: 0.9965 - val_loss: 1.6175 - val_accuracy: 0.7388\n",
            "Epoch 40/40\n",
            "163/163 [==============================] - 18s 113ms/step - loss: 0.0133 - accuracy: 0.9977 - val_loss: 1.5967 - val_accuracy: 0.7356\n"
          ]
        }
      ]
    },
    {
      "cell_type": "code",
      "metadata": {
        "colab": {
          "base_uri": "https://localhost:8080/",
          "height": 295
        },
        "id": "LELeoNJMkalU",
        "outputId": "b879418e-df7c-44ea-f951-f04cdab7b947"
      },
      "source": [
        "import matplotlib.pyplot as plt\n",
        "%matplotlib inline\n",
        "plt.plot(training_results.history['accuracy'])\n",
        "plt.plot(training_results.history['val_accuracy'])\n",
        "plt.title('model accuracy')\n",
        "plt.ylabel('accuracy')\n",
        "plt.xlabel('epoch')\n",
        "plt.legend(['train', 'test'], loc='upper left')\n",
        "plt.show()"
      ],
      "execution_count": null,
      "outputs": [
        {
          "output_type": "display_data",
          "data": {
            "image/png": "[encoded data removed]",
            "text/plain": [
              "<Figure size 432x288 with 1 Axes>"
            ]
          },
          "metadata": {
            "needs_background": "light"
          }
        }
      ]
    },
    {
      "cell_type": "markdown",
      "metadata": {
        "id": "ZTeKqBARNGgV"
      },
      "source": [
        "# Tuned Model"
      ]
    },
    {
      "cell_type": "code",
      "metadata": {
        "id": "gzyCs7DrNFKt"
      },
      "source": [
        "tuned = Sequential()\n",
        "tuned.add(Conv2D(64, (5, 5), activation = 'relu', input_shape=(img_width, img_height, 3)))\n",
        "tuned.add(MaxPooling2D(pool_size=(2, 2), data_format = 'channels_first'))\n",
        "tuned.add(Conv2D(64, (5, 5), activation = 'relu', padding = 'same'))\n",
        "tuned.add(MaxPooling2D(pool_size=(2, 2), padding = 'same'))\n",
        "tuned.add(Conv2D(32, (3, 3), activation = 'relu', padding = 'same'))\n",
        "tuned.add(MaxPooling2D(pool_size=(2, 2)))\n",
        "tuned.add(Flatten()) \n",
        "tuned.add(Dense(32)) \n",
        "tuned.add(Dense(1,activation='sigmoid'))\n",
        "\n",
        "opt = SGD(nesterov=True, lr=0.001, momentum=0.3)\n",
        "tuned.compile(optimizer=opt, loss='binary_crossentropy', metrics=['accuracy'])"
      ],
      "execution_count": null,
      "outputs": []
    },
    {
      "cell_type": "code",
      "metadata": {
        "colab": {
          "base_uri": "https://localhost:8080/"
        },
        "id": "0-WvHQn2OFN-",
        "outputId": "4395cf53-300f-4be5-fed0-7f8d52eea80e"
      },
      "source": [
        "training_results = tuned.fit_generator(\n",
        "        train_data, #training set\n",
        "        steps_per_epoch = len(train_data), \n",
        "        epochs=40, #number of epochs \n",
        "        validation_data = test_data, #testing set\n",
        "        validation_steps = len(test_data)\n",
        "        )"
      ],
      "execution_count": null,
      "outputs": [
        {
          "output_type": "stream",
          "name": "stdout",
          "text": [
            "Epoch 1/40\n",
            "163/163 [==============================] - 28s 173ms/step - loss: 0.1965 - accuracy: 0.9216 - val_loss: 0.9666 - val_accuracy: 0.6843\n",
            "Epoch 2/40\n",
            "163/163 [==============================] - 28s 172ms/step - loss: 0.1773 - accuracy: 0.9296 - val_loss: 0.5386 - val_accuracy: 0.7692\n",
            "Epoch 3/40\n",
            "163/163 [==============================] - 28s 172ms/step - loss: 0.1599 - accuracy: 0.9365 - val_loss: 0.4602 - val_accuracy: 0.7981\n",
            "Epoch 4/40\n",
            "163/163 [==============================] - 28s 171ms/step - loss: 0.1514 - accuracy: 0.9419 - val_loss: 0.3837 - val_accuracy: 0.8269\n",
            "Epoch 5/40\n",
            "163/163 [==============================] - 28s 171ms/step - loss: 0.1575 - accuracy: 0.9369 - val_loss: 0.5401 - val_accuracy: 0.7804\n",
            "Epoch 6/40\n",
            "163/163 [==============================] - 28s 171ms/step - loss: 0.1401 - accuracy: 0.9457 - val_loss: 1.3624 - val_accuracy: 0.6731\n",
            "Epoch 7/40\n",
            "163/163 [==============================] - 28s 171ms/step - loss: 0.1430 - accuracy: 0.9454 - val_loss: 0.9983 - val_accuracy: 0.7019\n",
            "Epoch 8/40\n",
            "163/163 [==============================] - 28s 171ms/step - loss: 0.1391 - accuracy: 0.9467 - val_loss: 0.8713 - val_accuracy: 0.7179\n",
            "Epoch 9/40\n",
            "163/163 [==============================] - 28s 171ms/step - loss: 0.1416 - accuracy: 0.9444 - val_loss: 1.1947 - val_accuracy: 0.6875\n",
            "Epoch 10/40\n",
            "163/163 [==============================] - 28s 171ms/step - loss: 0.1302 - accuracy: 0.9509 - val_loss: 0.6714 - val_accuracy: 0.7564\n",
            "Epoch 11/40\n",
            "163/163 [==============================] - 28s 171ms/step - loss: 0.1309 - accuracy: 0.9502 - val_loss: 0.9168 - val_accuracy: 0.7196\n",
            "Epoch 12/40\n",
            "163/163 [==============================] - 28s 171ms/step - loss: 0.1288 - accuracy: 0.9509 - val_loss: 1.3756 - val_accuracy: 0.6795\n",
            "Epoch 13/40\n",
            "163/163 [==============================] - 28s 171ms/step - loss: 0.1316 - accuracy: 0.9492 - val_loss: 0.8585 - val_accuracy: 0.7244\n",
            "Epoch 14/40\n",
            "163/163 [==============================] - 28s 171ms/step - loss: 0.1236 - accuracy: 0.9540 - val_loss: 0.7381 - val_accuracy: 0.7500\n",
            "Epoch 15/40\n",
            "163/163 [==============================] - 28s 171ms/step - loss: 0.1228 - accuracy: 0.9525 - val_loss: 1.0352 - val_accuracy: 0.7131\n",
            "Epoch 16/40\n",
            "163/163 [==============================] - 28s 171ms/step - loss: 0.1168 - accuracy: 0.9569 - val_loss: 0.7229 - val_accuracy: 0.7644\n",
            "Epoch 17/40\n",
            "163/163 [==============================] - 28s 171ms/step - loss: 0.1190 - accuracy: 0.9536 - val_loss: 0.6889 - val_accuracy: 0.7612\n",
            "Epoch 18/40\n",
            "163/163 [==============================] - 28s 171ms/step - loss: 0.1177 - accuracy: 0.9567 - val_loss: 0.9254 - val_accuracy: 0.7324\n",
            "Epoch 19/40\n",
            "163/163 [==============================] - 28s 170ms/step - loss: 0.1205 - accuracy: 0.9548 - val_loss: 0.7539 - val_accuracy: 0.7500\n",
            "Epoch 20/40\n",
            "163/163 [==============================] - 28s 171ms/step - loss: 0.1148 - accuracy: 0.9553 - val_loss: 0.9191 - val_accuracy: 0.7308\n",
            "Epoch 21/40\n",
            "163/163 [==============================] - 28s 171ms/step - loss: 0.1119 - accuracy: 0.9595 - val_loss: 0.6867 - val_accuracy: 0.7692\n",
            "Epoch 22/40\n",
            "163/163 [==============================] - 28s 171ms/step - loss: 0.1138 - accuracy: 0.9546 - val_loss: 1.1620 - val_accuracy: 0.7035\n",
            "Epoch 23/40\n",
            "163/163 [==============================] - 28s 171ms/step - loss: 0.1087 - accuracy: 0.9595 - val_loss: 1.0369 - val_accuracy: 0.7179\n",
            "Epoch 24/40\n",
            "163/163 [==============================] - 28s 171ms/step - loss: 0.1136 - accuracy: 0.9571 - val_loss: 1.1800 - val_accuracy: 0.7035\n",
            "Epoch 25/40\n",
            "163/163 [==============================] - 28s 172ms/step - loss: 0.1090 - accuracy: 0.9592 - val_loss: 0.7961 - val_accuracy: 0.7532\n",
            "Epoch 26/40\n",
            "163/163 [==============================] - 28s 171ms/step - loss: 0.1078 - accuracy: 0.9565 - val_loss: 1.1127 - val_accuracy: 0.7051\n",
            "Epoch 27/40\n",
            "163/163 [==============================] - 28s 171ms/step - loss: 0.1053 - accuracy: 0.9588 - val_loss: 0.7920 - val_accuracy: 0.7596\n",
            "Epoch 28/40\n",
            "163/163 [==============================] - 28s 171ms/step - loss: 0.1055 - accuracy: 0.9605 - val_loss: 0.4781 - val_accuracy: 0.8157\n",
            "Epoch 29/40\n",
            "163/163 [==============================] - 28s 171ms/step - loss: 0.1103 - accuracy: 0.9563 - val_loss: 0.6500 - val_accuracy: 0.7788\n",
            "Epoch 30/40\n",
            "163/163 [==============================] - 28s 171ms/step - loss: 0.1033 - accuracy: 0.9599 - val_loss: 0.8061 - val_accuracy: 0.7548\n",
            "Epoch 31/40\n",
            "163/163 [==============================] - 28s 172ms/step - loss: 0.1040 - accuracy: 0.9630 - val_loss: 1.2215 - val_accuracy: 0.7003\n",
            "Epoch 32/40\n",
            "163/163 [==============================] - 28s 171ms/step - loss: 0.1009 - accuracy: 0.9626 - val_loss: 0.9431 - val_accuracy: 0.7340\n",
            "Epoch 33/40\n",
            "163/163 [==============================] - 28s 171ms/step - loss: 0.1006 - accuracy: 0.9638 - val_loss: 0.8170 - val_accuracy: 0.7500\n",
            "Epoch 34/40\n",
            "163/163 [==============================] - 28s 171ms/step - loss: 0.1020 - accuracy: 0.9630 - val_loss: 1.1678 - val_accuracy: 0.7083\n",
            "Epoch 35/40\n",
            "163/163 [==============================] - 29s 176ms/step - loss: 0.0987 - accuracy: 0.9618 - val_loss: 1.2097 - val_accuracy: 0.7083\n",
            "Epoch 36/40\n",
            "163/163 [==============================] - 28s 171ms/step - loss: 0.0997 - accuracy: 0.9609 - val_loss: 1.0614 - val_accuracy: 0.7163\n",
            "Epoch 37/40\n",
            "163/163 [==============================] - 28s 171ms/step - loss: 0.0976 - accuracy: 0.9640 - val_loss: 0.8092 - val_accuracy: 0.7644\n",
            "Epoch 38/40\n",
            "163/163 [==============================] - 28s 171ms/step - loss: 0.0928 - accuracy: 0.9655 - val_loss: 0.8031 - val_accuracy: 0.7644\n",
            "Epoch 39/40\n",
            "163/163 [==============================] - 28s 172ms/step - loss: 0.0954 - accuracy: 0.9645 - val_loss: 0.7584 - val_accuracy: 0.7644\n",
            "Epoch 40/40\n",
            "163/163 [==============================] - 28s 171ms/step - loss: 0.0946 - accuracy: 0.9670 - val_loss: 0.7748 - val_accuracy: 0.7660\n"
          ]
        }
      ]
    },
    {
      "cell_type": "code",
      "metadata": {
        "colab": {
          "base_uri": "https://localhost:8080/",
          "height": 295
        },
        "id": "r9x1_dkwOLXR",
        "outputId": "5ba81a5a-59ea-4aa8-aac2-69f794e5dce1"
      },
      "source": [
        "import matplotlib.pyplot as plt\n",
        "%matplotlib inline\n",
        "plt.plot(training_results.history['accuracy'])\n",
        "plt.plot(training_results.history['val_accuracy'])\n",
        "plt.title('model accuracy')\n",
        "plt.ylabel('accuracy')\n",
        "plt.xlabel('epoch')\n",
        "plt.legend(['train', 'test'], loc='upper left')\n",
        "plt.show()"
      ],
      "execution_count": null,
      "outputs": [
        {
          "output_type": "display_data",
          "data": {
            "image/png": "[encoded data removed]",
            "text/plain": [
              "<Figure size 432x288 with 1 Axes>"
            ]
          },
          "metadata": {
            "needs_background": "light"
          }
        }
      ]
    },
    {
      "cell_type": "markdown",
      "metadata": {
        "id": "QfiZRcT6JRxH"
      },
      "source": [
        "# Conclusions\n",
        "Honestly, I think both performed equally as well on average. I tried the tuned model with several different parameters and after a few hours of waiting for my model to run, adjusting, and trying again, I decided that it wasn't going to get much better than what I had without more in-depth knowledge of how these actually work so I could make educated changes, rather then guessing and checking. I couldn't figure how to increase accuracy, as no matter what parameters I changed, it seemed to be so variable throughout the model."
      ]
    }
  ]
}