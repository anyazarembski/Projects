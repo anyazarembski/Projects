{
  "cells": [
    {
      "cell_type": "markdown",
      "metadata": {
        "id": "view-in-github",
        "colab_type": "text"
      },
      "source": [
        "<a href=\"https://colab.research.google.com/github/anyazarembski/Projects/blob/main/Sentiment_Analysis.ipynb\" target=\"_parent\"><img src=\"https://colab.research.google.com/assets/colab-badge.svg\" alt=\"Open In Colab\"/></a>"
      ]
    },
    {
      "cell_type": "markdown",
      "metadata": {
        "id": "vu0Kz0Nq4ui4"
      },
      "source": [
        "# Project 2\n",
        "Name: Anya Zarembski\n",
        "<br>Date: 12/10/2021\n",
        "\n",
        "## Problem:\n",
        "In this project, we are attempting to do sentiment analysis. We will take several reviews from IMDB and run several models on them to design models that can identify sentiment. Then, we will send reviews through the model and get an accuracy score. We can then compare these models to see which model preformed the best. \n"
      ]
    },
    {
      "cell_type": "markdown",
      "metadata": {
        "id": "NBZAVjcWhgBV"
      },
      "source": [
        "# Input Pipeline (sklearn):"
      ]
    },
    {
      "cell_type": "code",
      "execution_count": null,
      "metadata": {
        "colab": {
          "base_uri": "https://localhost:8080/",
          "height": 244
        },
        "id": "12XGv2fIfTSr",
        "outputId": "a800f141-7089-4def-8187-eafa198069c2"
      },
      "outputs": [
        {
          "output_type": "stream",
          "name": "stdout",
          "text": [
            "Drive already mounted at /content/drive; to attempt to forcibly remount, call drive.mount(\"/content/drive\", force_remount=True).\n"
          ]
        },
        {
          "output_type": "execute_result",
          "data": {
            "text/html": [
              "<div>\n",
              "<style scoped>\n",
              "    .dataframe tbody tr th:only-of-type {\n",
              "        vertical-align: middle;\n",
              "    }\n",
              "\n",
              "    .dataframe tbody tr th {\n",
              "        vertical-align: top;\n",
              "    }\n",
              "\n",
              "    .dataframe thead th {\n",
              "        text-align: right;\n",
              "    }\n",
              "</style>\n",
              "<table border=\"1\" class=\"dataframe\">\n",
              "  <thead>\n",
              "    <tr style=\"text-align: right;\">\n",
              "      <th></th>\n",
              "      <th>review</th>\n",
              "      <th>sentiment</th>\n",
              "    </tr>\n",
              "  </thead>\n",
              "  <tbody>\n",
              "    <tr>\n",
              "      <th>0</th>\n",
              "      <td>One of the other reviewers has mentioned that ...</td>\n",
              "      <td>positive</td>\n",
              "    </tr>\n",
              "    <tr>\n",
              "      <th>1</th>\n",
              "      <td>A wonderful little production. &lt;br /&gt;&lt;br /&gt;The...</td>\n",
              "      <td>positive</td>\n",
              "    </tr>\n",
              "    <tr>\n",
              "      <th>2</th>\n",
              "      <td>I thought this was a wonderful way to spend ti...</td>\n",
              "      <td>positive</td>\n",
              "    </tr>\n",
              "    <tr>\n",
              "      <th>3</th>\n",
              "      <td>Basically there's a family where a little boy ...</td>\n",
              "      <td>negative</td>\n",
              "    </tr>\n",
              "    <tr>\n",
              "      <th>4</th>\n",
              "      <td>Petter Mattei's \"Love in the Time of Money\" is...</td>\n",
              "      <td>positive</td>\n",
              "    </tr>\n",
              "  </tbody>\n",
              "</table>\n",
              "</div>"
            ],
            "text/plain": [
              "                                              review sentiment\n",
              "0  One of the other reviewers has mentioned that ...  positive\n",
              "1  A wonderful little production. <br /><br />The...  positive\n",
              "2  I thought this was a wonderful way to spend ti...  positive\n",
              "3  Basically there's a family where a little boy ...  negative\n",
              "4  Petter Mattei's \"Love in the Time of Money\" is...  positive"
            ]
          },
          "metadata": {},
          "execution_count": 33
        }
      ],
      "source": [
        "from google.colab import drive\n",
        "import pandas\n",
        "drive.mount('/content/drive')\n",
        "data = pandas.read_csv('/content/drive/MyDrive/CS167/datasets/IMDB_dataset.csv')\n",
        "data.head()"
      ]
    },
    {
      "cell_type": "markdown",
      "metadata": {
        "id": "ICUC-PvQ5bP2"
      },
      "source": [
        "## Data Exploration:\n",
        "- Number of samples\n",
        "- Number of classes of the target variable\n",
        "- Number of words per sample\n",
        "- Distribution of sample length\n",
        "- Most common words and their frequency \n",
        "\n",
        "I used this website as source for the common words code: https://www.delftstack.com/howto/python/python-counter-most-common/"
      ]
    },
    {
      "cell_type": "code",
      "execution_count": null,
      "metadata": {
        "colab": {
          "base_uri": "https://localhost:8080/",
          "height": 386
        },
        "id": "9kkCmgdf5ZqB",
        "outputId": "5fb2dcb3-e868-4baa-c1a0-807af6dfedb8"
      },
      "outputs": [
        {
          "output_type": "stream",
          "name": "stdout",
          "text": [
            "# of samples:  50000\n",
            "# of classes in sentiment:  2\n",
            "median number of words per sample:  173.0\n",
            "ten most common words and their count:  [('the', 568735), ('a', 306960), ('and', 301919), ('of', 283625), ('to', 261850), ('is', 203056), ('in', 169981), ('I', 132498), ('that', 126818), ('this', 113726)]\n"
          ]
        },
        {
          "output_type": "display_data",
          "data": {
            "image/png": "[encoded data removed]",
            "text/plain": [
              "<Figure size 432x288 with 1 Axes>"
            ]
          },
          "metadata": {
            "needs_background": "light"
          }
        }
      ],
      "source": [
        "## Use cells here to explore the data:\n",
        "import statistics\n",
        "import pandas as pd\n",
        "import pylab as pl\n",
        "from collections import Counter\n",
        "\n",
        "#number of samples\n",
        "print(\"# of samples: \", len(data))\n",
        "\n",
        "#number of classes in target\n",
        "print('# of classes in sentiment: ', len(data['sentiment'].unique()))\n",
        "\n",
        "#median number of words per sample\n",
        "n_of_words = []\n",
        "for samp in data['review']:\n",
        "  words = samp.split()\n",
        "  n_of_words.append(len(words))\n",
        "print('median number of words per sample: ', statistics.median(n_of_words))\n",
        "\n",
        "#histogram of sample length\n",
        "data['length'] = n_of_words\n",
        "data['length'].hist()\n",
        "pl.title(\"Frequency of Word Count in Reviews\")\n",
        "pl.xlabel(\"Number of Words\")\n",
        "pl.ylabel(\"Frequency\")\n",
        "\n",
        "#most common words - creative \n",
        "all_words = []\n",
        "for samp in data['review']:\n",
        "  words = samp.split()\n",
        "  for word in words:\n",
        "    all_words.append(word)\n",
        "\n",
        "c = Counter(all_words)\n",
        "print (\"ten most common words and their count: \",c.most_common(10))"
      ]
    },
    {
      "cell_type": "markdown",
      "metadata": {
        "id": "ZSuguZ6u5lUl"
      },
      "source": [
        "## Data Preparation\n",
        "First, we have to import the set of stopwords from beautiful soup, so we can remove them from our dataset. These are words like I, a, to, the, etc. We do this by creating a method that lowercases all words by using lower(), and spliting apart each sentence into individual words. then, it filters through the stop words, and while that word is in our dataset, we remove it. Then we use a for loop to add all these reviews to a list without the stop words. We can then split to data set into testing and training data using sci-kit learn's built in function. \n",
        "\n",
        "<br>Then, we can split the data into vectors for if any given word is present in a review, using the vectorizor method. This allows us to predict sentiment more easily, as numbers (1 for word present, 0 for not) are much easier to work with than strings. "
      ]
    },
    {
      "cell_type": "code",
      "execution_count": null,
      "metadata": {
        "colab": {
          "base_uri": "https://localhost:8080/"
        },
        "id": "YV4FfvLegTSh",
        "outputId": "4c1e106c-a933-46fc-9ff0-fd53f3d62c23"
      },
      "outputs": [
        {
          "name": "stdout",
          "output_type": "stream",
          "text": [
            "NLTK Downloader\n",
            "---------------------------------------------------------------------------\n",
            "    d) Download   l) List    u) Update   c) Config   h) Help   q) Quit\n",
            "---------------------------------------------------------------------------\n",
            "Downloader> d\n",
            "\n",
            "Download which package (l=list; x=cancel)?\n",
            "  Identifier> stopwords\n",
            "    Downloading package stopwords to /root/nltk_data...\n",
            "      Package stopwords is already up-to-date!\n",
            "\n",
            "---------------------------------------------------------------------------\n",
            "    d) Download   l) List    u) Update   c) Config   h) Help   q) Quit\n",
            "---------------------------------------------------------------------------\n",
            "Downloader> q\n"
          ]
        }
      ],
      "source": [
        "from bs4 import BeautifulSoup\n",
        "import re\n",
        "import nltk\n",
        "#only do next line once\n",
        "nltk.download() #in Corpora tab, download stopwords\n",
        "from nltk.corpus import stopwords\n",
        "from sklearn.model_selection import train_test_split\n",
        "#The NLTK downloader will open, you need to select (d) for Download, and then 'stopwords'then (q) to quit"
      ]
    },
    {
      "cell_type": "code",
      "execution_count": null,
      "metadata": {
        "id": "tTEr6vRUgOUs"
      },
      "outputs": [],
      "source": [
        "#This is a function that takes in a review, makes sure it is only lower case letters and removes stopwords.\n",
        "#It returns the cleaned review text.\n",
        "def clean_review(review):\n",
        "    #input is a string review\n",
        "    #return is review cleaned of all punctuation, lowercase, and removed nltk stopwords\n",
        "    letters_only = re.sub(\"[^a-zA-Z]\",\" \",review)\n",
        "    lower_case = letters_only.lower()\n",
        "    words = lower_case.split()\n",
        "    for stop_word in stopwords.words(\"english\"):\n",
        "        while stop_word in words:\n",
        "            words.remove(stop_word)\n",
        "    cleaned = \" \".join(words)\n",
        "    return cleaned"
      ]
    },
    {
      "cell_type": "code",
      "execution_count": null,
      "metadata": {
        "id": "QEjHsILZgk9V"
      },
      "outputs": [],
      "source": [
        "#process the data\n",
        "cleaned_text = []\n",
        "for i in range(len(data)):\n",
        "    cleaned_text.append(clean_review(data[\"review\"][i]))  "
      ]
    },
    {
      "cell_type": "code",
      "execution_count": null,
      "metadata": {
        "colab": {
          "base_uri": "https://localhost:8080/"
        },
        "id": "LMg3P0ZNBvGM",
        "outputId": "453af797-897a-4d14-f309-b4dafaacbf49"
      },
      "outputs": [
        {
          "output_type": "execute_result",
          "data": {
            "text/plain": [
              "['one reviewers mentioned watching oz episode hooked right exactly happened br br first thing struck oz brutality unflinching scenes violence set right word go trust show faint hearted timid show pulls punches regards drugs sex violence hardcore classic use word br br called oz nickname given oswald maximum security state penitentary focuses mainly emerald city experimental section prison cells glass fronts face inwards privacy high agenda em city home many aryans muslims gangstas latinos christians italians irish scuffles death stares dodgy dealings shady agreements never far away br br would say main appeal show due fact goes shows dare forget pretty pictures painted mainstream audiences forget charm forget romance oz mess around first episode ever saw struck nasty surreal say ready watched developed taste oz got accustomed high levels graphic violence violence injustice crooked guards sold nickel inmates kill order get away well mannered middle class inmates turned prison bitches due lack street skills prison experience watching oz may become comfortable uncomfortable viewing thats get touch darker side',\n",
              " 'wonderful little production br br filming technique unassuming old time bbc fashion gives comforting sometimes discomforting sense realism entire piece br br actors extremely well chosen michael sheen got polari voices pat truly see seamless editing guided references williams diary entries well worth watching terrificly written performed piece masterful production one great master comedy life br br realism really comes home little things fantasy guard rather use traditional dream techniques remains solid disappears plays knowledge senses particularly scenes concerning orton halliwell sets particularly flat halliwell murals decorating every surface terribly well done',\n",
              " 'thought wonderful way spend time hot summer weekend sitting air conditioned theater watching light hearted comedy plot simplistic dialogue witty characters likable even well bread suspected serial killer may disappointed realize match point risk addiction thought proof woody allen still fully control style many us grown love br br laughed one woody comedies years dare say decade never impressed scarlet johanson managed tone sexy image jumped right average spirited young woman br br may crown jewel career wittier devil wears prada interesting superman great comedy go see friends',\n",
              " 'basically family little boy jake thinks zombie closet parents fighting time br br movie slower soap opera suddenly jake decides become rambo kill zombie br br ok first going make film must decide thriller drama drama movie watchable parents divorcing arguing like real life jake closet totally ruins film expected see boogeyman similar movie instead watched drama meaningless thriller spots br br well playing parents descent dialogs shots jake ignore',\n",
              " 'petter mattei love time money visually stunning film watch mr mattei offers us vivid portrait human relations movie seems telling us money power success people different situations encounter br br variation arthur schnitzler play theme director transfers action present time new york different characters meet connect one connected one way another next person one seems know previous point contact stylishly film sophisticated luxurious look taken see people live world live habitat br br thing one gets souls picture different stages loneliness one inhabits big city exactly best place human relations find sincere fulfillment one discerns case people encounter br br acting good mr mattei direction steve buscemi rosario dawson carol kane michael imperioli adrian grenier rest talented cast make characters come alive br br wish mr mattei good luck await anxiously next work']"
            ]
          },
          "metadata": {},
          "execution_count": 39
        }
      ],
      "source": [
        "cleaned_text[:5]"
      ]
    },
    {
      "cell_type": "code",
      "execution_count": null,
      "metadata": {
        "id": "spDgSTvCg9wk"
      },
      "outputs": [],
      "source": [
        "#establish training and testing dataset\n",
        "train_data, test_data, train_sln, test_sln = \\\n",
        "    train_test_split(cleaned_text, data['sentiment'], test_size = 0.2, random_state=0) "
      ]
    },
    {
      "cell_type": "markdown",
      "metadata": {
        "id": "-86AHOAkDpge"
      },
      "source": [
        "### Vectorizing the data\n",
        "\n",
        "**CountVectorizer**: Convert a collection of text documents to a matrix of token counts"
      ]
    },
    {
      "cell_type": "code",
      "execution_count": null,
      "metadata": {
        "id": "nwmex98NDgqJ"
      },
      "outputs": [],
      "source": [
        "from sklearn.feature_extraction.text import CountVectorizer \n",
        "\n",
        "#Bag of Words with 5000 most common words\n",
        "vectorizer = CountVectorizer(analyzer='word', max_features = 500)\n",
        "#find the right 5000 words\n",
        "vectorizer.fit(train_data)\n",
        "\n",
        "#use the vectorizer to transform review strings into word count vectors \n",
        "train_data_vectors = vectorizer.transform(train_data).toarray()\n",
        "test_data_vectors = vectorizer.transform(test_data).toarray()"
      ]
    },
    {
      "cell_type": "markdown",
      "source": [
        "# Metrics\n",
        "For this dataset, we will be using accuracy. It is the best for classification, which is what we are doing. "
      ],
      "metadata": {
        "id": "2iNwm_Uw6pjf"
      }
    },
    {
      "cell_type": "markdown",
      "source": [
        "# Model Planning and Execution\n",
        "I will use a PCA to find the best predictor words, and I will tune k, the number of words, to find the ideal word length. I test this using a kNN algorithm, as it's the most basic prediction model. Then I ran a final PCA that will edit the data. All the following methods use this data.\n",
        "<br>First, I try a Support Vector Machine (SVM) model to predict sentiment. I will test the value of C to see what would work best for this model. \n",
        "<br>Next, I will try a Perceptron. I will tune the type of penalty and figure out whihc works best for this model. \n",
        "<br>Finally, I will try a Multi-Layer Perceptron, and tune based on the learning rate. "
      ],
      "metadata": {
        "id": "12zj_jVdy8oT"
      }
    },
    {
      "cell_type": "code",
      "execution_count": null,
      "metadata": {
        "id": "uUSQcsLOEAec"
      },
      "outputs": [],
      "source": [
        "from sklearn.svm import SVC\n",
        "from sklearn import metrics\n",
        "from sklearn import neighbors\n",
        "from sklearn.linear_model import Perceptron\n",
        "import pandas as pd\n",
        "import pylab as pl\n",
        "from sklearn.decomposition import PCA"
      ]
    },
    {
      "cell_type": "code",
      "execution_count": null,
      "metadata": {
        "id": "YHqtf54N5pUv"
      },
      "outputs": [],
      "source": [
        "#Principal Component Analysis Tuning using Knn \n",
        "n_vals = [1, 2, 3, 4, 5, 7, 10, 15, 25, 50, 100, 150, 200, 250, 300, 400, 500]\n",
        "pca_acc = []\n",
        "\n",
        "for n in n_vals:\n",
        "  extractor = PCA(n_components=n, whiten=True)\n",
        "  extractor.fit(train_data_vectors)\n",
        "  train_transformed = extractor.transform(train_data_vectors)\n",
        "  test_transformed = extractor.transform(test_data_vectors)\n",
        "  knn = neighbors.KNeighborsClassifier()\n",
        "  knn.fit(train_transformed, train_sln)\n",
        "  predictions = knn.predict(test_transformed)\n",
        "  pca_acc.append(metrics.accuracy_score(test_sln, predictions))"
      ]
    },
    {
      "cell_type": "code",
      "execution_count": null,
      "metadata": {
        "colab": {
          "base_uri": "https://localhost:8080/",
          "height": 296
        },
        "id": "ReaZ1pOazfkF",
        "outputId": "5b0c4312-18ce-4e80-8169-154c1afbe484"
      },
      "outputs": [
        {
          "output_type": "execute_result",
          "data": {
            "text/plain": [
              "<matplotlib.axes._subplots.AxesSubplot at 0x7f91c6ab8a10>"
            ]
          },
          "metadata": {},
          "execution_count": 48
        },
        {
          "output_type": "display_data",
          "data": {
            "image/png": "[encoded data removed]",
            "text/plain": [
              "<Figure size 432x288 with 1 Axes>"
            ]
          },
          "metadata": {
            "needs_background": "light"
          }
        }
      ],
      "source": [
        "#PCA Tuned Graph\n",
        "pca_df = pd.DataFrame({'N-Components in PCA':n_vals, 'Accuracy':pca_acc})\n",
        "pca_df.plot(x='N-Components in PCA', y='Accuracy')"
      ]
    },
    {
      "cell_type": "code",
      "execution_count": null,
      "metadata": {
        "id": "VrbQQsIb0zd7"
      },
      "outputs": [],
      "source": [
        "#Final PCA\n",
        "extractor = PCA(n_components=10, whiten=True)\n",
        "extractor.fit(train_data_vectors)\n",
        "train_transformed = extractor.transform(train_data_vectors)\n",
        "test_transformed = extractor.transform(test_data_vectors)"
      ]
    },
    {
      "cell_type": "code",
      "execution_count": null,
      "metadata": {
        "id": "2EQkVAJuoxEt"
      },
      "outputs": [],
      "source": [
        "#Support Vector Classifier Tuning\n",
        "c_vals = [.1, .5, .75, 1, 1.25, 1.5, 2]\n",
        "svc_acc = []  \n",
        "\n",
        "for c in c_vals: \n",
        "  svc = SVC(C = c)\n",
        "  svc.fit(train_transformed,train_sln)\n",
        "  predictions = svc.predict(test_transformed)\n",
        "  svc_acc.append(metrics.accuracy_score(test_sln, predictions))"
      ]
    },
    {
      "cell_type": "code",
      "execution_count": null,
      "metadata": {
        "colab": {
          "base_uri": "https://localhost:8080/",
          "height": 310
        },
        "id": "_Ef61weMwEf4",
        "outputId": "3bd5dd43-8489-478c-f85a-c96feaea6265"
      },
      "outputs": [
        {
          "output_type": "execute_result",
          "data": {
            "text/plain": [
              "<matplotlib.axes._subplots.AxesSubplot at 0x7f91c727ead0>"
            ]
          },
          "metadata": {},
          "execution_count": 53
        },
        {
          "output_type": "display_data",
          "data": {
            "image/png": "[encoded data removed]",
            "text/plain": [
              "<Figure size 432x288 with 1 Axes>"
            ]
          },
          "metadata": {
            "needs_background": "light"
          }
        }
      ],
      "source": [
        "svc_df = pd.DataFrame({'C Value in SVC':c_vals, 'Accuracy':svc_acc})\n",
        "svc_df.plot.bar(x='C Value in SVC', y='Accuracy')"
      ]
    },
    {
      "cell_type": "code",
      "execution_count": null,
      "metadata": {
        "colab": {
          "base_uri": "https://localhost:8080/"
        },
        "id": "s06-Zge513AS",
        "outputId": "f6bf7a32-2ff1-47da-d3aa-de872e6e822c"
      },
      "outputs": [
        {
          "output_type": "stream",
          "name": "stdout",
          "text": [
            "SVC Accuracy:  0.7314\n"
          ]
        }
      ],
      "source": [
        "svc = SVC(C = c)\n",
        "svc.fit(train_transformed,train_sln)\n",
        "predictions = svc.predict(test_transformed)\n",
        "svc_accuracy = metrics.accuracy_score(test_sln, predictions)\n",
        "print(\"SVC Accuracy: \", svc_accuracy)"
      ]
    },
    {
      "cell_type": "code",
      "execution_count": null,
      "metadata": {
        "colab": {
          "base_uri": "https://localhost:8080/",
          "height": 335
        },
        "id": "EZ--TUOh-rOh",
        "outputId": "c7b1c467-f876-486d-e790-6f8e4e9b2023"
      },
      "outputs": [
        {
          "output_type": "execute_result",
          "data": {
            "text/plain": [
              "<matplotlib.axes._subplots.AxesSubplot at 0x7f91c81e3710>"
            ]
          },
          "metadata": {},
          "execution_count": 55
        },
        {
          "output_type": "display_data",
          "data": {
            "image/png": "[encoded data removed]",
            "text/plain": [
              "<Figure size 432x288 with 1 Axes>"
            ]
          },
          "metadata": {
            "needs_background": "light"
          }
        }
      ],
      "source": [
        "#Perceptron Tuning \n",
        "penalty = ['l2','l1','elasticnet', 'None']\n",
        "pen_accuracy = []\n",
        "\n",
        "for pen in penalty:\n",
        "  perc = Perceptron(penalty=pen)\n",
        "  perc.fit(train_transformed,train_sln)\n",
        "  predictions = perc.predict(test_transformed)\n",
        "  pen_accuracy.append(metrics.accuracy_score(test_sln, predictions))\n",
        "\n",
        "penalty_df = pd.DataFrame({'Type of Penalty':penalty, 'Accuracy':pen_accuracy})\n",
        "penalty_df.plot.bar(x='Type of Penalty', y='Accuracy')"
      ]
    },
    {
      "cell_type": "code",
      "execution_count": null,
      "metadata": {
        "colab": {
          "base_uri": "https://localhost:8080/"
        },
        "id": "yBag3dRlDvxv",
        "outputId": "0a88b084-76b2-46a7-89e5-8f2075520d0b"
      },
      "outputs": [
        {
          "output_type": "stream",
          "name": "stdout",
          "text": [
            "Accuracy of perceptron:  0.6546\n"
          ]
        }
      ],
      "source": [
        "#final perceptron\n",
        "f_perc = Perceptron(penalty='elasticnet', eta0=.3)\n",
        "f_perc.fit(train_transformed,train_sln)\n",
        "p_predictions = f_perc.predict(test_transformed)\n",
        "\n",
        "p_acc = metrics.accuracy_score(test_sln, p_predictions)\n",
        "print('Accuracy of perceptron: ', p_acc)"
      ]
    },
    {
      "cell_type": "code",
      "execution_count": null,
      "metadata": {
        "colab": {
          "base_uri": "https://localhost:8080/",
          "height": 322
        },
        "id": "OAAj1iCXF9Sm",
        "outputId": "768b53c4-361f-48f0-9ce7-de0fd8689274"
      },
      "outputs": [
        {
          "output_type": "execute_result",
          "data": {
            "text/plain": [
              "<matplotlib.axes._subplots.AxesSubplot at 0x7f91b8ce8c10>"
            ]
          },
          "metadata": {},
          "execution_count": 57
        },
        {
          "output_type": "display_data",
          "data": {
            "image/png": "[encoded data removed]",
            "text/plain": [
              "<Figure size 432x288 with 1 Axes>"
            ]
          },
          "metadata": {
            "needs_background": "light"
          }
        }
      ],
      "source": [
        "#Multi-Layer Perceptron Tuning\n",
        "from sklearn.neural_network import MLPClassifier\n",
        "\n",
        "lr = [.00001, .00005, .0001, .0005, .001, .005, .01, .05, .1, .5, 1]\n",
        "lr_acc = []\n",
        "\n",
        "for rate in lr:\n",
        "  mlp = MLPClassifier(random_state=1, max_iter=300, learning_rate_init= rate)\n",
        "  mlp.fit(train_transformed,train_sln)\n",
        "  predictions = mlp.predict(test_transformed)\n",
        "  lr_acc.append(metrics.accuracy_score(test_sln, predictions))\n",
        "\n",
        "lr_df = pd.DataFrame({'Learning Rate':lr, 'Accuracy':lr_acc})\n",
        "lr_df.plot.bar(x='Learning Rate', y='Accuracy')"
      ]
    },
    {
      "cell_type": "code",
      "execution_count": null,
      "metadata": {
        "id": "f3CEOGa-FTFw"
      },
      "outputs": [],
      "source": [
        "  #Final MLP\n",
        "  mlp = MLPClassifier(random_state=1, max_iter=300, learning_rate_init= .00001)\n",
        "  mlp.fit(train_transformed,train_sln)\n",
        "  predictions = mlp.predict(test_transformed)\n",
        "  mlp_acc = metrics.accuracy_score(test_sln, predictions)"
      ]
    },
    {
      "cell_type": "code",
      "execution_count": null,
      "metadata": {
        "colab": {
          "base_uri": "https://localhost:8080/"
        },
        "id": "nzNHfmjS_AqE",
        "outputId": "f55e6d1d-cea4-4292-8696-6e0af5dbde59"
      },
      "outputs": [
        {
          "output_type": "stream",
          "name": "stdout",
          "text": [
            "MLP Accuracy:  0.7328\n"
          ]
        }
      ],
      "source": [
        "print(\"MLP Accuracy: \", mlp_acc)"
      ]
    },
    {
      "cell_type": "markdown",
      "source": [
        "# Bumps in the Road\n",
        "I didn't experience any problems, other than how long it was taking to run the SVM. It was difficult to find time to be able to sit down and run it for an hour plus so I could tune it. Luckily, I was able to. It was also frustrating that you could run a tuning model for a while, only to realize that comparing that parameter didn't change the accuracy at all, and you had to run it again and again. "
      ],
      "metadata": {
        "id": "rm4AzjTsCvYV"
      }
    },
    {
      "cell_type": "markdown",
      "source": [
        "# Results\n",
        "The SVC had an accuracy of .7314. The Perceptron had an accuracy of .6546. The MLP had an accuracy of .7328. There is a graph of these values compared against each other below. \n",
        "\n",
        "For tuning, I learned that n_components = 10 is best for PCA, C = 1 is best for SVC, 'elasticnet' is the best penalty, and .00001 is the best learning rate for MLP. "
      ],
      "metadata": {
        "id": "7X-4lM4GRbYq"
      }
    },
    {
      "cell_type": "code",
      "source": [
        "methods = ['SVC', 'Perceptron', 'MLP']\n",
        "accuracies = [svc_accuracy, p_acc, mlp_acc]\n",
        "\n",
        "final_df = pd.DataFrame({'Method':methods, 'Accuracy':accuracies})\n",
        "final_df.plot.bar(x='Method', y='Accuracy')\n",
        "\n",
        "print(\"SVC Accuracy: \", accuracies[0], \"\\nPerceptron Accuracy: \", accuracies[1], \"\\nMLP Accuracy: \", accuracies[2])"
      ],
      "metadata": {
        "colab": {
          "base_uri": "https://localhost:8080/",
          "height": 376
        },
        "id": "uNa-U4m3--xj",
        "outputId": "dcdf9a02-4ec3-43ee-b966-4e1cab3aea5d"
      },
      "execution_count": null,
      "outputs": [
        {
          "output_type": "stream",
          "name": "stdout",
          "text": [
            "SVC Accuracy:  0.7314 \n",
            "Perceptron Accuracy:  0.6546 \n",
            "MLP Accuracy:  0.7328\n"
          ]
        },
        {
          "output_type": "display_data",
          "data": {
            "image/png": "[encoded data removed]",
            "text/plain": [
              "<Figure size 432x288 with 1 Axes>"
            ]
          },
          "metadata": {
            "needs_background": "light"
          }
        }
      ]
    },
    {
      "cell_type": "markdown",
      "source": [
        "# Conclusion\n",
        "I reccomend using a more complex model, as it's going to train better by default, shown by how the perceptron compared against the MLP and SVC. I personally would go with MLP, because although the accuracy was about the same, the model ran much faster. \n",
        "<br> The perceptron was very fast, but was  the worst model, so if you were working with a huge dataset on a time limit, it might be extremely useful to use the perceptron, but it's too simple to be the best model. The MLP was the best model. It worked very fast and was quite accurate. This is because it can run through the same inputs several times before moving on, to get more accurate. While the SVC was quite accurate, it simply takes too long to run and tune, when the MLP got roughly the same accuracy in half the time. "
      ],
      "metadata": {
        "id": "pqRmyWOLWOra"
      }
    }
  ],
  "metadata": {
    "accelerator": "GPU",
    "colab": {
      "name": "Project_2_Zarembski.ipynb",
      "provenance": [],
      "collapsed_sections": [],
      "include_colab_link": true
    },
    "kernelspec": {
      "display_name": "Python 3",
      "name": "python3"
    },
    "language_info": {
      "name": "python"
    }
  },
  "nbformat": 4,
  "nbformat_minor": 0
}